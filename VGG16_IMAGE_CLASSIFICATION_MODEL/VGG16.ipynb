{
 "cells": [
  {
   "cell_type": "code",
   "execution_count": 1,
   "id": "6e0f6135",
   "metadata": {},
   "outputs": [],
   "source": [
    "from keras.preprocessing import image"
   ]
  },
  {
   "cell_type": "code",
   "execution_count": 2,
   "id": "017d32c4",
   "metadata": {},
   "outputs": [],
   "source": [
    "from keras.preprocessing.image import ImageDataGenerator\n",
    "from keras.models import Sequential\n",
    "from keras.layers import *"
   ]
  },
  {
   "cell_type": "code",
   "execution_count": 3,
   "id": "60293352",
   "metadata": {},
   "outputs": [],
   "source": [
    "from keras import applications"
   ]
  },
  {
   "cell_type": "code",
   "execution_count": 14,
   "id": "4ec6ad19",
   "metadata": {},
   "outputs": [],
   "source": [
    "from tensorflow.keras.applications.vgg16 import VGG16"
   ]
  },
  {
   "cell_type": "code",
   "execution_count": 5,
   "id": "34b138a5",
   "metadata": {},
   "outputs": [],
   "source": [
    "from keras import Model"
   ]
  },
  {
   "cell_type": "code",
   "execution_count": 15,
   "id": "73c20e7c",
   "metadata": {},
   "outputs": [
    {
     "name": "stdout",
     "output_type": "stream",
     "text": [
      "Downloading data from https://storage.googleapis.com/tensorflow/keras-applications/vgg16/vgg16_weights_tf_dim_ordering_tf_kernels_notop.h5\n",
      "58892288/58889256 [==============================] - 50s 1us/step\n",
      "58900480/58889256 [==============================] - 50s 1us/step\n"
     ]
    }
   ],
   "source": [
    "base_model= VGG16(weights='imagenet',\n",
    "    input_shape=(224, 224, 3),\n",
    "    include_top=False)"
   ]
  },
  {
   "cell_type": "markdown",
   "id": "4efe8d2d",
   "metadata": {},
   "source": [
    "#FREEZING THE MODEL"
   ]
  },
  {
   "cell_type": "code",
   "execution_count": 16,
   "id": "44f6cf41",
   "metadata": {},
   "outputs": [],
   "source": [
    "base_model.trainable = False"
   ]
  },
  {
   "cell_type": "markdown",
   "id": "5e158b34",
   "metadata": {},
   "source": [
    "#ADDING INPUT ,POOLING,OUTPUT LAYERS"
   ]
  },
  {
   "cell_type": "code",
   "execution_count": 17,
   "id": "636dc635",
   "metadata": {},
   "outputs": [],
   "source": [
    "inputs = Input(shape=(224, 224, 3))\n",
    "\n",
    "x = base_model(inputs, training=False)\n",
    "\n",
    "# Add pooling layer or flatten layer\n",
    "x = GlobalAveragePooling2D()(x)\n",
    "d1 = Dense(256, activation = 'relu')(x)\n",
    "d2=Dropout(rate=(0.5))(d1)\n",
    "d3 = Dense(64, activation = 'relu')(d2)\n",
    "# Add final dense layer\n",
    "outputs = Dense(4, activation = 'softmax')(d3)\n",
    "\n",
    "# Combine inputs and outputs to create model\n",
    "model = Model(inputs,outputs)"
   ]
  },
  {
   "cell_type": "code",
   "execution_count": 18,
   "id": "934bcf7e",
   "metadata": {},
   "outputs": [
    {
     "name": "stdout",
     "output_type": "stream",
     "text": [
      "Model: \"model_1\"\n",
      "_________________________________________________________________\n",
      " Layer (type)                Output Shape              Param #   \n",
      "=================================================================\n",
      " input_4 (InputLayer)        [(None, 224, 224, 3)]     0         \n",
      "                                                                 \n",
      " vgg16 (Functional)          (None, 7, 7, 512)         14714688  \n",
      "                                                                 \n",
      " global_average_pooling2d_1   (None, 512)              0         \n",
      " (GlobalAveragePooling2D)                                        \n",
      "                                                                 \n",
      " dense_3 (Dense)             (None, 256)               131328    \n",
      "                                                                 \n",
      " dropout_1 (Dropout)         (None, 256)               0         \n",
      "                                                                 \n",
      " dense_4 (Dense)             (None, 64)                16448     \n",
      "                                                                 \n",
      " dense_5 (Dense)             (None, 4)                 260       \n",
      "                                                                 \n",
      "=================================================================\n",
      "Total params: 14,862,724\n",
      "Trainable params: 148,036\n",
      "Non-trainable params: 14,714,688\n",
      "_________________________________________________________________\n"
     ]
    }
   ],
   "source": [
    "model.summary()"
   ]
  },
  {
   "cell_type": "code",
   "execution_count": 19,
   "id": "85bb948b",
   "metadata": {},
   "outputs": [],
   "source": [
    "model.compile(loss = \"categorical_crossentropy\" , metrics = [\"accuracy\"])"
   ]
  },
  {
   "cell_type": "code",
   "execution_count": null,
   "id": "a12b18db",
   "metadata": {},
   "outputs": [],
   "source": [
    "import os\n",
    "import shutil"
   ]
  },
  {
   "cell_type": "code",
   "execution_count": null,
   "id": "6c211b7f",
   "metadata": {},
   "outputs": [],
   "source": [
    "if not os.path.isdir('../desktop/val_images'):\n",
    "    os.mkdir('../desktop/val_images')\n",
    "    "
   ]
  },
  {
   "cell_type": "code",
   "execution_count": null,
   "id": "a8e88cba",
   "metadata": {},
   "outputs": [],
   "source": [
    "classes=['cats','dogs','horses','humans']"
   ]
  },
  {
   "cell_type": "code",
   "execution_count": null,
   "id": "9c9a7a63",
   "metadata": {},
   "outputs": [],
   "source": [
    "for c in classes:\n",
    "    p=os.path.join('../desktop/val_images',c)\n",
    "    if not os.path.isdir(p):\n",
    "        os.mkdir(p)\n",
    "split=0.9\n",
    "for f in os.listdir('../desktop/images'):\n",
    "    path='../desktop/images/'+f\n",
    "    img=os.listdir(path)\n",
    "    split_size=int(split*len(img))\n",
    "    files_to_move=img[split_size:]\n",
    "    for val_img in files_to_move:\n",
    "        s=os.path.join(path,val_img)\n",
    "        d=os.path.join('../desktop/val_images/'+f,val_img)\n",
    "        shutil.move(s,d)\n",
    "    "
   ]
  },
  {
   "cell_type": "code",
   "execution_count": 20,
   "id": "4bedf8cb",
   "metadata": {},
   "outputs": [],
   "source": [
    "datagen = ImageDataGenerator(\n",
    "    rescale=1.0/255,\n",
    "    samplewise_center=True,  \n",
    "        rotation_range=10,  \n",
    "        zoom_range = 0.1,\n",
    "       shear_range=0.2,\n",
    "        width_shift_range=0.1,  \n",
    "        height_shift_range=0.1,  \n",
    "        horizontal_flip=True,  \n",
    "        vertical_flip=False)"
   ]
  },
  {
   "cell_type": "code",
   "execution_count": 21,
   "id": "acb95cee",
   "metadata": {},
   "outputs": [
    {
     "name": "stdout",
     "output_type": "stream",
     "text": [
      "Found 724 images belonging to 4 classes.\n",
      "Found 84 images belonging to 4 classes.\n"
     ]
    }
   ],
   "source": [
    "# load and iterate training dataset\n",
    "train_it = datagen.flow_from_directory('../desktop/images', \n",
    "                                       target_size=(224, 224), \n",
    "                                       color_mode='rgb', \n",
    "                                       class_mode=\"categorical\",\n",
    "                                    batch_size=32)\n",
    "# load and iterate validation dataset\n",
    "val_gen=ImageDataGenerator(rescale=1.0/255)\n",
    "valid_it=val_gen.flow_from_directory(\n",
    "'../desktop/val_images',\n",
    "target_size=(224,224),\n",
    "class_mode='categorical',\n",
    "batch_size=32\n",
    ")"
   ]
  },
  {
   "cell_type": "code",
   "execution_count": 22,
   "id": "01d21b56",
   "metadata": {},
   "outputs": [
    {
     "name": "stdout",
     "output_type": "stream",
     "text": [
      "Epoch 1/20\n",
      "23/23 [==============================] - 46s 2s/step - loss: 1.2713 - accuracy: 0.4157 - val_loss: 0.9726 - val_accuracy: 0.6548\n",
      "Epoch 2/20\n",
      "23/23 [==============================] - 45s 2s/step - loss: 0.9195 - accuracy: 0.6298 - val_loss: 0.6068 - val_accuracy: 0.8214\n",
      "Epoch 3/20\n",
      "23/23 [==============================] - 45s 2s/step - loss: 0.7413 - accuracy: 0.7030 - val_loss: 0.4989 - val_accuracy: 0.8571\n",
      "Epoch 4/20\n",
      "23/23 [==============================] - 45s 2s/step - loss: 0.6246 - accuracy: 0.7610 - val_loss: 0.3867 - val_accuracy: 0.8571\n",
      "Epoch 5/20\n",
      "23/23 [==============================] - 45s 2s/step - loss: 0.5210 - accuracy: 0.8052 - val_loss: 0.3231 - val_accuracy: 0.9048\n",
      "Epoch 6/20\n",
      "23/23 [==============================] - 44s 2s/step - loss: 0.4988 - accuracy: 0.8149 - val_loss: 0.3220 - val_accuracy: 0.9167\n",
      "Epoch 7/20\n",
      "23/23 [==============================] - 45s 2s/step - loss: 0.4420 - accuracy: 0.8232 - val_loss: 0.3262 - val_accuracy: 0.9286\n",
      "Epoch 8/20\n",
      "23/23 [==============================] - 45s 2s/step - loss: 0.4342 - accuracy: 0.8343 - val_loss: 0.2592 - val_accuracy: 0.9405\n",
      "Epoch 9/20\n",
      "23/23 [==============================] - 45s 2s/step - loss: 0.3583 - accuracy: 0.8646 - val_loss: 0.3246 - val_accuracy: 0.8690\n",
      "Epoch 10/20\n",
      "23/23 [==============================] - 45s 2s/step - loss: 0.3348 - accuracy: 0.8702 - val_loss: 0.1967 - val_accuracy: 0.9286\n",
      "Epoch 11/20\n",
      "23/23 [==============================] - 47s 2s/step - loss: 0.3617 - accuracy: 0.8605 - val_loss: 0.2751 - val_accuracy: 0.9048\n",
      "Epoch 12/20\n",
      "23/23 [==============================] - 46s 2s/step - loss: 0.2831 - accuracy: 0.8826 - val_loss: 0.2394 - val_accuracy: 0.9286\n",
      "Epoch 13/20\n",
      "23/23 [==============================] - 46s 2s/step - loss: 0.3312 - accuracy: 0.8702 - val_loss: 0.2323 - val_accuracy: 0.9286\n",
      "Epoch 14/20\n",
      "23/23 [==============================] - 46s 2s/step - loss: 0.2733 - accuracy: 0.8978 - val_loss: 0.2814 - val_accuracy: 0.8452\n",
      "Epoch 15/20\n",
      "23/23 [==============================] - 46s 2s/step - loss: 0.2790 - accuracy: 0.8992 - val_loss: 0.1917 - val_accuracy: 0.9524\n",
      "Epoch 16/20\n",
      "23/23 [==============================] - 46s 2s/step - loss: 0.2564 - accuracy: 0.9047 - val_loss: 0.2169 - val_accuracy: 0.8690\n",
      "Epoch 17/20\n",
      "23/23 [==============================] - 44s 2s/step - loss: 0.2602 - accuracy: 0.9033 - val_loss: 0.1458 - val_accuracy: 0.9524\n",
      "Epoch 18/20\n",
      "23/23 [==============================] - 44s 2s/step - loss: 0.2717 - accuracy: 0.8881 - val_loss: 0.1951 - val_accuracy: 0.9405\n",
      "Epoch 19/20\n",
      "23/23 [==============================] - 45s 2s/step - loss: 0.2566 - accuracy: 0.8964 - val_loss: 0.1535 - val_accuracy: 0.9286\n",
      "Epoch 20/20\n",
      "23/23 [==============================] - 46s 2s/step - loss: 0.2263 - accuracy: 0.9240 - val_loss: 0.1618 - val_accuracy: 0.9167\n"
     ]
    },
    {
     "data": {
      "text/plain": [
       "<keras.callbacks.History at 0x19b34779a30>"
      ]
     },
     "execution_count": 22,
     "metadata": {},
     "output_type": "execute_result"
    }
   ],
   "source": [
    "model.fit(train_it,epochs=20,validation_data=valid_it)"
   ]
  },
  {
   "cell_type": "markdown",
   "id": "8fc305f7",
   "metadata": {},
   "source": [
    "#FINE TUNING"
   ]
  },
  {
   "cell_type": "code",
   "execution_count": 33,
   "id": "36c41870",
   "metadata": {},
   "outputs": [],
   "source": [
    "from tensorflow.keras.optimizers import Adam"
   ]
  },
  {
   "cell_type": "code",
   "execution_count": 34,
   "id": "a086a482",
   "metadata": {},
   "outputs": [],
   "source": [
    "# Unfreeze the base model\n",
    "base_model.trainable = True\n",
    "adam=Adam(learning_rate = 0.00001)\n",
    "# Compile the model with a low learning rate\n",
    "model.compile(optimizer=adam\n",
    "          , loss = \"categorical_crossentropy\", metrics = [\"accuracy\"])"
   ]
  },
  {
   "cell_type": "code",
   "execution_count": 35,
   "id": "2f042b6d",
   "metadata": {},
   "outputs": [
    {
     "name": "stdout",
     "output_type": "stream",
     "text": [
      "Epoch 1/5\n",
      "23/23 [==============================] - 201s 9s/step - loss: 0.0845 - accuracy: 0.9682 - val_loss: 0.0562 - val_accuracy: 0.9643\n",
      "Epoch 2/5\n",
      "23/23 [==============================] - 198s 9s/step - loss: 0.0543 - accuracy: 0.9765 - val_loss: 0.0425 - val_accuracy: 0.9762\n",
      "Epoch 3/5\n",
      "23/23 [==============================] - 236s 10s/step - loss: 0.0312 - accuracy: 0.9862 - val_loss: 0.0241 - val_accuracy: 0.9881\n",
      "Epoch 4/5\n",
      "23/23 [==============================] - 382s 17s/step - loss: 0.0286 - accuracy: 0.9890 - val_loss: 0.0271 - val_accuracy: 0.9881\n",
      "Epoch 5/5\n",
      "23/23 [==============================] - 371s 16s/step - loss: 0.0203 - accuracy: 0.9959 - val_loss: 0.0319 - val_accuracy: 0.9881\n"
     ]
    },
    {
     "data": {
      "text/plain": [
       "<keras.callbacks.History at 0x19b36450c10>"
      ]
     },
     "execution_count": 35,
     "metadata": {},
     "output_type": "execute_result"
    }
   ],
   "source": [
    "model.fit(train_it,\n",
    "          validation_data=valid_it,\n",
    "          epochs=5)"
   ]
  },
  {
   "cell_type": "markdown",
   "id": "01c4fafd",
   "metadata": {},
   "source": [
    "#WE CAN HERE , TRAINING ACCURACY IS ARROUND 99.6% WITH VALIDATION SCORE OF 98.81%!!!"
   ]
  },
  {
   "cell_type": "code",
   "execution_count": 36,
   "id": "553c65e8",
   "metadata": {},
   "outputs": [
    {
     "name": "stdout",
     "output_type": "stream",
     "text": [
      "INFO:tensorflow:Assets written to: VGG16_IMAGE_CLASSIFICATION_MODEL\\assets\n"
     ]
    }
   ],
   "source": [
    "model.save('VGG16_IMAGE_CLASSIFICATION_MODEL')"
   ]
  },
  {
   "cell_type": "code",
   "execution_count": null,
   "id": "5907c76d",
   "metadata": {},
   "outputs": [],
   "source": []
  }
 ],
 "metadata": {
  "kernelspec": {
   "display_name": "Python 3 (ipykernel)",
   "language": "python",
   "name": "python3"
  },
  "language_info": {
   "codemirror_mode": {
    "name": "ipython",
    "version": 3
   },
   "file_extension": ".py",
   "mimetype": "text/x-python",
   "name": "python",
   "nbconvert_exporter": "python",
   "pygments_lexer": "ipython3",
   "version": "3.9.7"
  }
 },
 "nbformat": 4,
 "nbformat_minor": 5
}
